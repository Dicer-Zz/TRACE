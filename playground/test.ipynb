{
 "cells": [
  {
   "cell_type": "code",
   "execution_count": 13,
   "metadata": {},
   "outputs": [
    {
     "name": "stdout",
     "output_type": "stream",
     "text": [
      "['1', '2', '3', '5', '4', '2', '3', '4']\n",
      "[['1', '4'], ['2', '2'], ['3', '3'], ['5', '4']]\n"
     ]
    },
    {
     "data": {
      "text/plain": [
       "['1', '2', '3', '5']"
      ]
     },
     "execution_count": 13,
     "metadata": {},
     "output_type": "execute_result"
    }
   ],
   "source": [
    "import random\n",
    "paths = 2\n",
    "batch_size = 4\n",
    "pre_sequences = ['1', '2', '3', '5', '4', '2', '3', '4']\n",
    "print(pre_sequences)\n",
    "# pre_sequences: [batch_size * paths]\n",
    "# [1, 2, ..., batch_size, 1, 2, ..., batch_size, ...]\n",
    "# list of string\n",
    "# vote for the final result\n",
    "\n",
    "pre_sequences = [pre_sequences[i*batch_size:(i+1)*batch_size] for i in range(paths)]\n",
    "pre_sequences = list(map(list, zip(*pre_sequences)))\n",
    "print(pre_sequences)\n",
    "pre_sequences = [max(set(seq), key=seq.count) for seq in pre_sequences]\n",
    "pre_sequences"
   ]
  },
  {
   "cell_type": "code",
   "execution_count": 5,
   "metadata": {},
   "outputs": [
    {
     "data": {
      "text/plain": [
       "''"
      ]
     },
     "execution_count": 5,
     "metadata": {},
     "output_type": "execute_result"
    }
   ],
   "source": [
    "a = \"\"\n",
    "a[:1]"
   ]
  },
  {
   "cell_type": "code",
   "execution_count": null,
   "metadata": {},
   "outputs": [],
   "source": []
  }
 ],
 "metadata": {
  "kernelspec": {
   "display_name": "trace",
   "language": "python",
   "name": "python3"
  },
  "language_info": {
   "codemirror_mode": {
    "name": "ipython",
    "version": 3
   },
   "file_extension": ".py",
   "mimetype": "text/x-python",
   "name": "python",
   "nbconvert_exporter": "python",
   "pygments_lexer": "ipython3",
   "version": "3.10.13"
  }
 },
 "nbformat": 4,
 "nbformat_minor": 2
}
