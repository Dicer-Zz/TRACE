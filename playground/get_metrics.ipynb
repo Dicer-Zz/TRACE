{
 "cells": [
  {
   "cell_type": "code",
   "execution_count": 15,
   "metadata": {},
   "outputs": [
    {
     "name": "stdout",
     "output_type": "stream",
     "text": [
      "Score matrix:\n",
      "C-STANCE & 45.00 & 44.00 & 51.00 & 59.00 & 54.00 & 50.00 & 53.00 & 8.00 \\\\\n",
      "FOMC & - & 0.00 & 0.00 & 0.00 & 20.00 & 17.00 & 32.00 & 32.00 \\\\\n",
      "Py150 & - & - & 27.22 & 29.58 & 34.61 & 33.03 & 29.48 & 2.26 \\\\\n",
      "ScienceQA & - & - & - & 49.00 & 73.00 & 71.00 & 69.00 & 20.00 \\\\\n",
      "NumGLUE-cm & - & - & - & - & 9.88 & 11.11 & 12.35 & 2.47 \\\\\n",
      "NumGLUE-ds & - & - & - & - & - & 37.00 & 36.00 & -1.00 \\\\\n",
      "20Minuten & - & - & - & - & - & - & 38.68 & 0.00 \\\\\n"
     ]
    }
   ],
   "source": [
    "# outputs_path = \"/home/zcwang/TRACE/outputs/cl/EPI/TinyLlama/TinyLlama-1.1B-Chat-v1.0/predictions\"\n",
    "# outputs_path = \"/home/zcwang/TRACE/outputs/cl/O-LoRA/google/gemma-2b-it/predictions\"\n",
    "# outputs_path = \"/home/zcwang/TRACE/outputs/cl/EPI/Qwen/Qwen1.5-0.5B-Chat/predictions\"\n",
    "outputs_path = \"/home/zcwang/TRACE/outputs/FSICL/Qwen/Qwen1.5-1.8B-Chat/predictions\"\n",
    "\n",
    "dataset_list = \"C-STANCE,FOMC,Py150,ScienceQA,NumGLUE-cm,NumGLUE-ds,20Minuten\".split(\",\")\n",
    "metric_list = \"accuracy,accuracy,similarity,accuracy,accuracy,accuracy,sari\".split(\",\")\n",
    "scale_list = [100, 100, 1, 100, 100, 100, 1]\n",
    "\n",
    "import os\n",
    "import json\n",
    "\n",
    "task_count = len(dataset_list)\n",
    "score_matrix = [[] for _ in range(task_count)]\n",
    "for t in range(task_count):\n",
    "    for i in range(t+1):\n",
    "        file_path = os.path.join(outputs_path, f\"results-{t}-{i}-{dataset_list[i]}.json\")\n",
    "        data = json.load(open(file_path))\n",
    "\n",
    "    # if \"Qwen\" in outputs_path:\n",
    "        if dataset_list[i] == \"FOMC\":\n",
    "            results = data[\"results\"]\n",
    "            labels = data[\"labels\"]\n",
    "            results = [res.strip() for res in results]\n",
    "            # print(results, labels)\n",
    "            acc = sum([1 for res, label in zip(results, labels) if res == label]) / len(labels)\n",
    "            # print(f\"Accuracy for {file_path}: {acc:.2f}\")\n",
    "            score_matrix[i].append(acc)\n",
    "            continue\n",
    "\n",
    "        elif dataset_list[i] == \"ScienceQA\":\n",
    "            results = data[\"results\"]\n",
    "            labels = data[\"labels\"]\n",
    "            results = [res.strip() for res in results]\n",
    "            labels = [label[0] for label in labels]\n",
    "            results = [res[0] if len(res) > 0 else 'A' for res in results]\n",
    "            # print(results, labels)\n",
    "            acc = sum([1 for res, label in zip(results, labels) if res == label]) / len(labels)\n",
    "            # print(f\"Accuracy for {file_path}: {acc:.2f}\")\n",
    "            score_matrix[i].append(acc)\n",
    "            continue\n",
    "\n",
    "        if metric_list[i] != \"sari\":\n",
    "            score_matrix[i].append(data[\"eval\"][metric_list[i]])\n",
    "        else:\n",
    "            score_matrix[i].append(data[\"eval\"][\"sari\"][0][\"sari\"])\n",
    "\n",
    "# display the score matrix\n",
    "print(\"Score matrix:\")\n",
    "for idx, row in enumerate(score_matrix):\n",
    "    # expand the row to the full length\n",
    "    row = [\"-\"] * (task_count - len(row)) + row + [row[-1] - row[0]]\n",
    "    print(dataset_list[idx] + ' & ' + ' & '.join([f\"{score*scale_list[idx]:.2f}\" if not isinstance(score, str) else score for score in row]) + \" \\\\\\\\\")"
   ]
  },
  {
   "cell_type": "code",
   "execution_count": 16,
   "metadata": {},
   "outputs": [
    {
     "name": "stdout",
     "output_type": "stream",
     "text": [
      "38.644261864080995 10.621522633744858\n",
      "[8.000000000000002, 32.0, 2.2600000000000016, 19.999999999999996, 2.4691358024691357, -1.0000000000000009, 0.0]\n",
      "[53.0, 32.0, 29.48, 69.0, 12.345679012345679, 36.0, 38.68415403622127]\n"
     ]
    }
   ],
   "source": [
    "bwf = [(score_matrix[i][-1] - score_matrix[i][0]) * scale_list[i] for i in range(task_count)]\n",
    "cl = [score_matrix[i][-1] * scale_list[i]for i in range(task_count)]\n",
    "print(sum(cl) / task_count, sum(bwf) / (task_count - 1))\n",
    "print(bwf)\n",
    "print(cl)"
   ]
  },
  {
   "cell_type": "code",
   "execution_count": null,
   "metadata": {},
   "outputs": [],
   "source": []
  }
 ],
 "metadata": {
  "kernelspec": {
   "display_name": "trace",
   "language": "python",
   "name": "python3"
  },
  "language_info": {
   "codemirror_mode": {
    "name": "ipython",
    "version": 3
   },
   "file_extension": ".py",
   "mimetype": "text/x-python",
   "name": "python",
   "nbconvert_exporter": "python",
   "pygments_lexer": "ipython3",
   "version": "3.10.13"
  }
 },
 "nbformat": 4,
 "nbformat_minor": 2
}
