{
 "cells": [
  {
   "cell_type": "code",
   "execution_count": 27,
   "metadata": {},
   "outputs": [
    {
     "name": "stdout",
     "output_type": "stream",
     "text": [
      "Score matrix:\n",
      "C-STANCE & 55.00 & 55.00 & 56.00 & 55.00 & 54.00 & 55.00 & 52.00 & -3.00 \\\\\n",
      "FOMC & - & 57.00 & 54.00 & 53.00 & 53.00 & 54.00 & 54.00 & -3.00 \\\\\n",
      "Py150 & - & - & 56.97 & 57.39 & 56.66 & 56.89 & 56.63 & -0.34 \\\\\n",
      "ScienceQA & - & - & - & 46.00 & 48.00 & 46.00 & 46.00 & 0.00 \\\\\n",
      "NumGLUE-cm & - & - & - & - & 34.57 & 35.80 & 32.10 & -2.47 \\\\\n",
      "NumGLUE-ds & - & - & - & - & - & 48.00 & 46.00 & -2.00 \\\\\n",
      "20Minuten & - & - & - & - & - & - & 39.60 & 0.00 \\\\\n"
     ]
    }
   ],
   "source": [
    "# outputs_path = \"/home/zcwang/TRACE/outputs/cl/EPI/TinyLlama/TinyLlama-1.1B-Chat-v1.0/predictions\"\n",
    "outputs_path = \"/home/zcwang/TRACE/outputs/cl/EPI/google/gemma-2b-it/predictions\"\n",
    "\n",
    "dataset_list = \"C-STANCE,FOMC,Py150,ScienceQA,NumGLUE-cm,NumGLUE-ds,20Minuten\".split(\",\")\n",
    "metric_list = \"accuracy,accuracy,similarity,accuracy,accuracy,accuracy,sari\".split(\",\")\n",
    "scale_list = [100, 100, 1, 100, 100, 100, 1]\n",
    "\n",
    "import os\n",
    "import json\n",
    "\n",
    "task_count = len(dataset_list)\n",
    "score_matrix = [[] for _ in range(task_count)]\n",
    "for t in range(task_count):\n",
    "    for i in range(t+1):\n",
    "        file_path = os.path.join(outputs_path, f\"results-{t}-{i}-{dataset_list[i]}.json\")\n",
    "        data = json.load(open(file_path))\n",
    "\n",
    "        if \"Qwen\" in outputs_path:\n",
    "            if dataset_list[i] == \"FOMC\":\n",
    "                results = data[\"results\"]\n",
    "                labels = data[\"labels\"]\n",
    "                results = [res.strip() for res in results]\n",
    "                # print(results, labels)\n",
    "                acc = sum([1 for res, label in zip(results, labels) if res == label]) / len(labels)\n",
    "                # print(f\"Accuracy for {file_path}: {acc:.2f}\")\n",
    "                score_matrix[i].append(acc)\n",
    "                continue\n",
    "\n",
    "            elif dataset_list[i] == \"ScienceQA\":\n",
    "                results = data[\"results\"]\n",
    "                labels = data[\"labels\"]\n",
    "                results = [res.strip() for res in results]\n",
    "                labels = [label[0] for label in labels]\n",
    "                results = [res[0] for res in results]\n",
    "                # print(results, labels)\n",
    "                acc = sum([1 for res, label in zip(results, labels) if res == label]) / len(labels)\n",
    "                # print(f\"Accuracy for {file_path}: {acc:.2f}\")\n",
    "                score_matrix[i].append(acc)\n",
    "                continue\n",
    "\n",
    "        if metric_list[i] != \"sari\":\n",
    "            score_matrix[i].append(data[\"eval\"][metric_list[i]])\n",
    "        else:\n",
    "            score_matrix[i].append(data[\"eval\"][\"sari\"][0][\"sari\"])\n",
    "\n",
    "# display the score matrix\n",
    "print(\"Score matrix:\")\n",
    "for idx, row in enumerate(score_matrix):\n",
    "    # expand the row to the full length\n",
    "    row = [\"-\"] * (task_count - len(row)) + row + [row[-1] - row[0]]\n",
    "    print(dataset_list[idx] + ' & ' + ' & '.join([f\"{score*scale_list[idx]:.2f}\" if not isinstance(score, str) else score for score in row]) + \" \\\\\\\\\")"
   ]
  },
  {
   "cell_type": "code",
   "execution_count": null,
   "metadata": {},
   "outputs": [],
   "source": []
  }
 ],
 "metadata": {
  "kernelspec": {
   "display_name": "trace",
   "language": "python",
   "name": "python3"
  },
  "language_info": {
   "codemirror_mode": {
    "name": "ipython",
    "version": 3
   },
   "file_extension": ".py",
   "mimetype": "text/x-python",
   "name": "python",
   "nbconvert_exporter": "python",
   "pygments_lexer": "ipython3",
   "version": "3.10.13"
  }
 },
 "nbformat": 4,
 "nbformat_minor": 2
}
