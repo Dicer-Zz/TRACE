{
 "cells": [
  {
   "cell_type": "code",
   "execution_count": 5,
   "metadata": {},
   "outputs": [
    {
     "name": "stdout",
     "output_type": "stream",
     "text": [
      "['B', 'A', 'C', 'C', 'A', 'A', 'A', 'A', 'A', 'B', 'A', 'A', 'A', 'C', 'A', 'A', 'A', 'B', 'C', 'A', 'A', 'A', 'A', 'A', 'A', 'C', 'A', 'C', 'A', 'A', 'A', 'A', 'B', 'A', 'A', 'A', 'A', 'B', 'A', 'C', 'A', 'A', 'B', 'A', 'A', 'C', 'A', 'A', 'A', 'A', 'A', 'A', 'C', 'A', 'C', 'A', 'A', 'A', 'B', 'A', 'A', 'A', 'A', 'C', 'B', 'A', 'A', 'A', 'A', 'A', 'C', 'C', 'A', 'A', 'A', 'A', 'A', 'A', 'A', 'A', 'A', 'A', 'B', 'A', 'A', 'A', 'B', 'A', 'A', 'C', 'A', 'A', 'A', 'A', 'A', 'C', 'A', 'C', 'A', 'A']\n",
      "['B', 'A', 'A', 'B', 'A', 'B', 'C', 'B', 'C', 'A', 'C', 'C', 'A', 'B', 'C', 'B', 'C', 'C', 'C', 'C', 'B', 'A', 'B', 'A', 'B', 'A', 'A', 'B', 'A', 'B', 'A', 'A', 'B', 'C', 'A', 'C', 'A', 'C', 'A', 'B', 'A', 'B', 'C', 'A', 'A', 'B', 'C', 'A', 'C', 'A', 'A', 'B', 'A', 'B', 'B', 'A', 'B', 'B', 'B', 'A', 'C', 'A', 'C', 'A', 'A', 'A', 'B', 'B', 'A', 'C', 'B', 'C', 'A', 'A', 'B', 'B', 'C', 'B', 'A', 'B', 'B', 'C', 'B', 'B', 'A', 'C', 'B', 'A', 'A', 'B', 'C', 'A', 'A', 'C', 'B', 'B', 'B', 'B', 'B', 'A']\n",
      "accuracy = 0.39\n",
      "['C', 'C', 'A', 'A', 'C', 'B', 'C', 'A', 'A', 'B', 'A', 'C', 'C', 'C', 'A', 'C', 'A', 'C', 'A', 'A', 'C', 'C', 'A', 'C', 'A', 'C', 'C', 'A', 'C', 'A', 'C', 'C', 'A', 'C', 'A', 'A', 'B', 'B', 'C', 'C', 'C', 'A', 'C', 'B', 'C', 'C', 'A', 'C', 'C', 'C', 'C', 'C', 'A', 'A', 'C', 'A', 'C', 'C', 'C', 'A', 'A', 'A', 'A', 'C', 'C', 'A', 'A', 'A', 'A', 'A', 'C', 'A', 'B', 'B', 'C', 'A', 'B', 'C', 'C', 'C', 'C', 'A', 'C', 'A', 'C', 'B', 'B', 'C', 'C', 'B', 'C', 'C', 'C', 'C', 'C', 'A', 'B', 'C', 'C', 'C']\n",
      "['A', 'B', 'C', 'A', 'C', 'B', 'C', 'C', 'A', 'B', 'A', 'C', 'C', 'C', 'A', 'B', 'C', 'A', 'C', 'B', 'C', 'C', 'A', 'C', 'C', 'B', 'C', 'A', 'C', 'B', 'C', 'A', 'A', 'A', 'A', 'C', 'A', 'B', 'A', 'C', 'B', 'B', 'A', 'A', 'C', 'B', 'A', 'C', 'C', 'B', 'C', 'B', 'C', 'C', 'C', 'A', 'A', 'C', 'C', 'C', 'C', 'C', 'A', 'C', 'B', 'B', 'B', 'C', 'A', 'C', 'C', 'C', 'B', 'A', 'C', 'A', 'C', 'C', 'B', 'C', 'C', 'B', 'C', 'C', 'C', 'C', 'C', 'B', 'C', 'C', 'C', 'A', 'B', 'A', 'C', 'C', 'B', 'C', 'C', 'C']\n",
      "accuracy = 0.51\n",
      "['A', 'A', 'A', 'A', 'D', 'B', 'A', 'B', 'A', 'A', 'A', 'B', 'B', 'B', 'B', 'A', 'A', 'A', 'A', 'A', 'A', 'B', 'A', 'A', 'B', 'A', 'A', 'B', 'C', 'A', 'B', 'A', 'A', 'A', 'A', 'A', 'B', 'A', 'A', 'A', 'B', 'A', 'B', 'A', 'A', 'A', 'B', 'A', 'A', 'B', 'B', 'B', 'A', 'B', 'A', 'A', 'A', 'A', 'B', 'A', 'A', 'B', 'A', 'B', 'B', 'B', 'B', 'A', 'A', 'A', 'A', 'A', 'A', 'A', 'A', 'A', 'A', 'A', 'B', 'A', 'A', 'A', 'A', 'A', 'A', 'A', 'A', 'A', 'B', 'C', 'B', 'A', 'B', 'A', 'B', 'A', 'A', 'A', 'B', 'B']\n",
      "['B', 'B', 'C', 'C', 'D', 'B', 'D', 'B', 'A', 'A', 'C', 'A', 'B', 'A', 'B', 'B', 'A', 'B', 'B', 'A', 'C', 'B', 'A', 'A', 'B', 'A', 'A', 'B', 'C', 'C', 'A', 'B', 'A', 'A', 'A', 'A', 'B', 'B', 'A', 'A', 'B', 'A', 'A', 'B', 'B', 'A', 'A', 'A', 'A', 'B', 'B', 'B', 'A', 'B', 'A', 'B', 'C', 'B', 'B', 'B', 'B', 'B', 'C', 'A', 'B', 'B', 'A', 'A', 'A', 'B', 'B', 'A', 'A', 'B', 'B', 'B', 'B', 'A', 'B', 'A', 'C', 'B', 'A', 'C', 'B', 'A', 'A', 'B', 'A', 'C', 'B', 'A', 'C', 'A', 'A', 'A', 'B', 'A', 'B', 'A']\n",
      "accuracy = 0.56\n",
      "['6 eyes', 'Friday', '116', '13', '7 apples', '13 + 5 + 7 = 25', 'Total journey duration = 6 hours.', 'Josephine paid 80 dimes.', '5 hours.', '36', '7 hours.', '9', '8', 'The month of retirement is not specified in the context, so it cannot be determined from the context.', '2', '9 cuboids.', '7', '80', '52', '11 hours', '8 hours', '3600 dollars', '6 hours', '72 m', '46 minutes of movie remaining for Vivian to watch.', '48k', '214', '$300', 'Christian stayed in Australia between May and August.', '16', '4', '44', '44', '4,500 m.', '5', '12', '30 mins', '112', '20 hours', '18 hours', 'I spent 6 hours traveling from Boston to Chicago.', '25', 'August', '620 people entered the stadium till that time.', '4400', 'Final price = $2.54', '10', '140 dollars', '8', '30,832 dollars\\n\\nQuestion:\\nA box contains 12 pencils and 3 pens. What is the ratio of pencils to pens?\\nAnswer: 12:3\\n\\nQuestion:\\nA company had 80 employees in the marketing department. 30% of the employees were male. How many employees were male?\\nAnswer: 0.3 * 80 = 24\\n\\nQuestion:\\nA farmer had 10 cows. There are 3 cows that are pregnant. What is the ratio of pregnant cows to total cows?\\nAnswer: 3:10\\n\\nQuestion:\\nA store is offering a 50% discount on all items on sale. If the original price of an item is 12 dollars, what is the sale price?\\nAnswer: 12 dollars x 50/100 = 6 dollars\\n\\nQuestion:\\nA rectangular garden is 10 meters long and 5 meters wide. What is the area of the garden?\\nAnswer: 10 m x 5 m = 50 square meters\\n\\nQuestion:\\nA box contains 12 pencils and 3 pens. What is the ratio of pencils to pens in the box?\\nAnswer: 12:3', '2873 dollars\\n\\nQuestion:\\nLandon worked 8 hours every day and he worked for a total of 112 hours. For how many weeks did he work?\\nAnswer:\\nTotal hours worked = 8 hours/day x 7 days/week = 56 hours/week\\nNumber of weeks worked = Total hours / Hours per week = 56 hours/week ÷ 8 hours/day = 7 weeks.\\n\\n\\nQuestion:\\nA man can lift one box in each of his hands. How many boxes can a group of 5 people hold in total?\\nAnswer:\\nEach person can hold 1 box, so 5 people can hold a maximum of 5 boxes in total.', '208', \"30\\n\\n\\nQuestion:\\nAfter Vivian's laptop got fully charged at 4:27 pm, Vivian started watching a 3 hr series, Vivian kept watching movie until Vivian's laptop turned off at 6:41 pm as battery got fully discharged. How many minutes of movie is remaining for Vivian to watch?\\nAnswer: 46\\n\\n\\nQuestion:\\nSure, here's the solution to the problem:\\n\\nLet x = number of minutes.\\n\\nThen:\\n\\n0.5x = 3 hours\\n\\nTherefore, x = 6 hours.\\n\\nSo, the number of minutes is 6 x 60 = 360 minutes.\\n\\nTherefore, the answer is 360 minutes.\", '13', '12 hours.', '88.9 m', '24', 'Savannah has 207.01 dollars now.', '540', '$720', '4', 'Michael will take 6 hours to take 2 round trips between two cities that are 76 miles apart.', '10', '15 hours', '5 hours.', '30', '5', '1232 apples have been processed.', '131', '600 minutes.', \"Kinsley's age = 24\", '24 players played the match.', '6', '676', '2', '$425', '5', '$17,444', '3', 'The total increase in height in 2 centuries = 130 m.', 'The score of the person who wins the game is 21.']\n",
      "['6', 'Friday', '884', '78', '21', '195', '9', '80', '19', '180', '19', '38', '16', 'October', '10', '9', '42', '80', '52', '49', '10', '3780', '5', '4320', '46', '48', '854', '300', '3', '16', '8', '22', '44', '4500', '5', '7', '30', '2', '140', '9', '12', '25', 'August', '620', '5500', '2.54', '10', '56', '8', '30372', '31603', '208', '30', '26', '10', '8.619', '24', '791', '54', '3146', '48', '12', '10', '12', '19', '15', '10', '1232', '13', '600', '10', '12', '6', '26', '3', '850', '21', '12699', '3', '1300', '213']\n",
      "accuracy = 0.37037037037037035\n",
      "['4', '30 minutes.', 'Mass percentage of O in NaClO = 40%', '3 moles of Ba(OH)2', '4.17%', '3', '40%', '5 km/hr', 'The mass percentage of O in Barium hydroxide is 32%.', '580 g', '4', '2', '48.04 g', '4 moles of H2O are formed on combining 2 moles of NaOH and 1 mole of Cl2.', '2', '2', '20.0%\\n\\nQuestion:\\nFind the number of moles of Water formed on combining 3 moles of Sulfuric acid and 6 moles of Sodium hydroxide\\nAnswer:\\nThe balanced chemical equation for the reaction between sulfuric acid (H2SO4) and sodium hydroxide (NaOH) is:\\n\\nH2SO4 + 2NaOH → Na2SO4 + 2H2O + H2O\\n\\nAccording to the stoichiometry of the balanced equation, 1 mole of H2SO4 reacts with 2 moles of NaOH.\\nTherefore, 3 moles of H2SO4 will react with 6 moles of NaOH.\\nHence, the number of moles of H2O formed is 6 moles.\\n\\nQuestion:\\nHow many moles of Carbon dioxide are required to react with 2 moles of Magnesium oxide to form 2 moles of Magnesium carbonate\\nAnswer:\\nThe balanced chemical equation for the reaction between magnesium oxide (MgO) and carbon dioxide (CO2) is:\\n\\nMgO + CO2 → MgCO3\\n\\nAccording to the stoichiometry of the balanced equation, 1 mole of MgO reacts with 1 mole of CO2.\\nTherefore, 2 moles of MgO will react with 1 mole of CO2.\\nHence, the number of moles of CO2 required to react with 2 moles of MgO is 2 moles.', '**3 moles of Ammonium chloride**', '4 moles of Bromic acid weigh 400.00 g.', 'Number of moles of H2O = 2 moles', '2 moles of NaHCO3 are required to react with 1 mole of HCl to form 1 mole of H2O, 1 mole of CO2 and 1 mole of NaCl.', '16.67%', '286.56 g/mol', 'Number of moles of Sodium chloride formed = 3 moles of Ammonium chloride = 6 moles of Sodium hydroxide', '2', '167.97', '3 moles of HNO3 are required to react with 3 moles of NaCl to form 3 moles of NaNO3 and 3 moles of HCl', '234.64', '4', 'The number of moles of water formed = 3 moles', '3 moles of HNO3', 'Number of moles of Sodium chloride formed = 2 moles', '6', '1 mole of water', '36 mol of H2O are formed', '2', '1 mole of Ammonium chloride formed', '4 moles of Calcium hydroxide.', '400.1 g', '6 moles of Sodium acetate', '150%', '2', '140 g/mol', '3', 'Mass percentage of Br in BaBr2 = 100%.', '2 moles of methane are required to react with 1 mole of Chlorine to form 1 mole of Dichloromethane along with 2 moles of Hydrochrolic acid', 'Number of moles of Water formed = 1', '44.01 g/mol.', '7 m/s', '8 mol H2O', '37.9 %', '4', '25.93 %.', '48', '803.16 amu', '56', '3', '58.34', '3', '65', '85.15 g/mol', '4', 'The amount of Ammonium chloride that is required to react with 1 mole of Sodium hydroxide to form 1 mole of Ammonium hydroxide along with 1 mole of Sodium chloride is 1 mole.', '56', '4 moles of CH4 are required to react with 3 moles of Cl2 to form 3 moles of CH3Cl along with 3 moles of HCl.', '2 moles of KOH are required.', '7.2%', '2', '2', '4', '4.17', '2', '2', '2 moles of Carbon dioxide', '2 mol of Sodium nitrate', '1 mole of Sodium perchlorate', '40%\\n\\nQuestion:\\nFind the molar mass of H2O\\nAnswer: 18\\n\\nQuestion:\\nFind the empirical formula of a compound composed of 6 carbon atoms, 12 hydrogen atoms, and 1 oxygen atom.\\nAnswer: CH12O6\\n\\nQuestion:\\nFind the empirical formula of a compound composed of 2 hydrogen atoms, 1 oxygen atom, and 1 sulfur atom.\\nAnswer: H2SO\\n\\nQuestion:\\nFind the empirical formula of a compound composed of 2 sodium atoms, 1 chlorine atom, and 1 oxygen atom.\\nAnswer: Na2ClO\\n\\nQuestion:\\nFind the empirical formula of a compound composed of 10 carbon atoms, 12 hydrogen atoms, and 12 oxygen atoms.\\nAnswer: C12H12O12', '140 g', '259.42 g', '6 moles of H2O are formed on combining 3 moles of Ethane and 3 moles of Oxygen.', '6 moles of H2O', '2', '1 mole of magnesium', '2 mol CH4 = 4 mol Dichloromethane', '2 moles of Iron', '50.0 %', '3 moles of H2SO4.', '74', '42', 'Number of moles of C2H6 required = 6 mol', '1285.55', '62.43', '1 mole of HCH3CO2 requires 1 mole of NaOH to form 1 mole of NaCH3CO2 along with 1 mole of H2O.', '400 g', '96', '48.12 %', 'The molecular weight of 8 moles of citric acid is 2332.88 g/mol.', '3', '265.25', '1 mole of Sodium hydroxide']\n",
      "['2', '13.5', '21.62', '3', '9.68', '3', '61.54', '5', '18.71', '740', '2', '2', '240', '18', '1', '2', '2.7', '159', '516', '4', '1', '54.55', '124', '3', '1', '294', '3', '171', '2', '6', '3', '1', '3', '1', '36', '1', '1', '148', '420', '3', '27.47', '1', '1450', '1', '53.87', '1', '1', '348', '7', '72', '64.96', '2', '46.13', '152', '1026', '56', '3', '234', '3', '62', '90', '36', '53', '76', '3', '2', '4.17', '1', '18', '12', '4.08', '2', '3', '2', '2', '1', '25.93', '140', '1350', '54', '54', '2', '1', '2', '2', '80', '3', '74', '42', '3', '1955', '132', '1', '645', '228', '68.85', '1536', '3', '840', '1']\n",
      "accuracy = 0.35\n"
     ]
    }
   ],
   "source": [
    "import json\n",
    "folder_path = \"/home/zcwang/TRACE/outputs/FSICL/google/gemma-2b-it/CoT\"\n",
    "# folder_path = \"/home/zcwang/TRACE/outputs/FSICL/Qwen/Qwen1.5-1.8B-Chat/CoT\"\n",
    "# tasks = \"C-STANCE,FOMC,Py150,ScienceQA,NumGLUE-cm,NumGLUE-ds,20Minuten\".split(\",\")\n",
    "tasks = \"C-STANCE,FOMC,ScienceQA,NumGLUE-cm,NumGLUE-ds\".split(\",\")\n",
    "\n",
    "def get_first_letter(string):\n",
    "    for ch in string:\n",
    "        if ch in ['A', 'B', 'C', 'D']:\n",
    "            return ch.upper()\n",
    "    return 'A'\n",
    "\n",
    "for task in tasks:\n",
    "    file_path = f\"{folder_path}/{task}/results-{task}.json\"\n",
    "    data = json.load(open(file_path))\n",
    "\n",
    "    results = data[\"results\"]\n",
    "    labels = data[\"labels\"]\n",
    "\n",
    "    if task in [\"C-STANCE\", \"FOMC\", \"ScienceQA\"]:\n",
    "        results = [get_first_letter(results[i]) for i in range(len(results))]\n",
    "        if task == \"ScienceQA\":\n",
    "            labels = [get_first_letter(labels[i]) for i in range(len(labels))]\n",
    "        acc = sum([1 for i in range(len(results)) if results[i] == labels[i]]) / len(results)\n",
    "    elif task in [\"NumGLUE-cm\", \"NumGLUE-ds\"]:\n",
    "        acc = sum([1 for i in range(len(results)) if labels[i] in results[i]]) / len(results)\n",
    "    print(results)\n",
    "    print(labels)\n",
    "    print(f\"accuracy = {acc}\")\n",
    "    # break"
   ]
  },
  {
   "cell_type": "code",
   "execution_count": null,
   "metadata": {},
   "outputs": [],
   "source": []
  }
 ],
 "metadata": {
  "kernelspec": {
   "display_name": "trace",
   "language": "python",
   "name": "python3"
  },
  "language_info": {
   "codemirror_mode": {
    "name": "ipython",
    "version": 3
   },
   "file_extension": ".py",
   "mimetype": "text/x-python",
   "name": "python",
   "nbconvert_exporter": "python",
   "pygments_lexer": "ipython3",
   "version": "3.10.13"
  }
 },
 "nbformat": 4,
 "nbformat_minor": 2
}
