{
 "cells": [
  {
   "cell_type": "code",
   "execution_count": 2,
   "metadata": {},
   "outputs": [],
   "source": [
    "import os\n",
    "dir_path = \"/home/zcwang/TRACE/outputs/cl/lora/Qwen/Qwen1.5-1.8B-Chat/predictions\""
   ]
  },
  {
   "cell_type": "code",
   "execution_count": 3,
   "metadata": {},
   "outputs": [
    {
     "name": "stdout",
     "output_type": "stream",
     "text": [
      "Accuracy for /home/zcwang/TRACE/outputs/cl/lora/Qwen/Qwen1.5-1.8B-Chat/predictions/results-1-1-FOMC.json: 53.00\n",
      "Accuracy for /home/zcwang/TRACE/outputs/cl/lora/Qwen/Qwen1.5-1.8B-Chat/predictions/results-2-1-FOMC.json: 53.00\n",
      "Accuracy for /home/zcwang/TRACE/outputs/cl/lora/Qwen/Qwen1.5-1.8B-Chat/predictions/results-3-1-FOMC.json: 0.00\n",
      "Accuracy for /home/zcwang/TRACE/outputs/cl/lora/Qwen/Qwen1.5-1.8B-Chat/predictions/results-4-1-FOMC.json: 0.00\n",
      "Accuracy for /home/zcwang/TRACE/outputs/cl/lora/Qwen/Qwen1.5-1.8B-Chat/predictions/results-5-1-FOMC.json: 4.00\n",
      "Accuracy for /home/zcwang/TRACE/outputs/cl/lora/Qwen/Qwen1.5-1.8B-Chat/predictions/results-6-1-FOMC.json: 5.00\n"
     ]
    }
   ],
   "source": [
    "# for FOMC\n",
    "import json\n",
    "for idx in range(1, 7):\n",
    "    file_path = os.path.join(dir_path, f\"results-{idx}-1-FOMC.json\")\n",
    "    with open(file_path, \"r\") as f:\n",
    "        data = json.load(f)\n",
    "    results = data[\"results\"]\n",
    "    labels = data[\"labels\"]\n",
    "    results = [res.strip() for res in results]\n",
    "    # print(results, labels)\n",
    "    acc = sum([1 for res, label in zip(results, labels) if res == label]) / len(labels) * 100\n",
    "    print(f\"Accuracy for {file_path}: {acc:.2f}\")"
   ]
  },
  {
   "cell_type": "code",
   "execution_count": 5,
   "metadata": {},
   "outputs": [
    {
     "name": "stdout",
     "output_type": "stream",
     "text": [
      "['A', 'B', 'C', 'A', 'D', 'A', 'D', 'B', 'A', 'A', 'C', 'A', 'B', 'A', 'B', 'B', 'A', 'A', 'A', 'A', 'A', 'B', 'A', 'A', 'A', 'B', 'A', 'D', 'C', 'C', 'B', 'A', 'A', 'A', 'A', 'B', 'B', 'A', 'B', 'A', 'A', 'A', 'B', 'A', 'A', 'A', 'A', 'A', 'A', 'A', 'B', 'B', 'C', 'B', 'A', 'B', 'C', 'A', 'A', 'A', 'A', 'B', 'B', 'A', 'B', 'B', 'B', 'A', 'A', 'B', 'A', 'A', 'A', 'A', 'B', 'B', 'A', 'A', 'B', 'A', 'C', 'B', 'A', 'C', 'A', 'A', 'A', 'A', 'F', 'C', 'B', 'A', 'C', 'C', 'A', 'A', 'A', 'A', 'A', 'A'] ['B', 'B', 'C', 'C', 'D', 'B', 'D', 'B', 'A', 'A', 'C', 'A', 'B', 'A', 'B', 'B', 'A', 'B', 'B', 'A', 'C', 'B', 'A', 'A', 'B', 'A', 'A', 'B', 'C', 'C', 'A', 'B', 'A', 'A', 'A', 'A', 'B', 'B', 'A', 'A', 'B', 'A', 'A', 'B', 'B', 'A', 'A', 'A', 'A', 'B', 'B', 'B', 'A', 'B', 'A', 'B', 'C', 'B', 'B', 'B', 'B', 'B', 'C', 'A', 'B', 'B', 'A', 'A', 'A', 'B', 'B', 'A', 'A', 'B', 'B', 'B', 'B', 'A', 'B', 'A', 'C', 'B', 'A', 'C', 'B', 'A', 'A', 'B', 'A', 'C', 'B', 'A', 'C', 'A', 'A', 'A', 'B', 'A', 'B', 'A']\n",
      "Accuracy for /home/zcwang/TRACE/outputs/cl/lora/Qwen/Qwen1.5-1.8B-Chat/predictions/results-3-3-ScienceQA.json:\n",
      "65.00\n",
      "['O', 'B', 'A', 'C', 'D', 'A', 'D', 'M', 'A', 'A', 'C', 'B', 'B', 'B', 'C', 'B', 'A', 'B', 'A', 'A', 'C', 'B', 'C', 'A', 'B', 'B', 'A', 'D', 'C', 'C', 'A', 'B', 'A', 'A', 'A', 'B', 'B', 'B', 'B', 'C', 'A', 'B', 'O', 'A', 'A', 'A', 'B', 'A', 'A', '4', 'B', 'B', 'C', 'B', 'B', 'B', 'C', 'B', 'B', 'C', 'A', 'A', 'B', 'B', 'B', 'A', 'B', 'A', 'A', 'B', 'B', 'A', 'B', 'B', 'B', 'B', 'B', 'B', 'M', 'A', 'C', 'B', 'A', 'C', 'A', 'A', 'A', 'B', 'F', 'C', 'B', 'B', 'D', 'C', 'B', 'A', 'B', 'A', 'D', 'A'] ['B', 'B', 'C', 'C', 'D', 'B', 'D', 'B', 'A', 'A', 'C', 'A', 'B', 'A', 'B', 'B', 'A', 'B', 'B', 'A', 'C', 'B', 'A', 'A', 'B', 'A', 'A', 'B', 'C', 'C', 'A', 'B', 'A', 'A', 'A', 'A', 'B', 'B', 'A', 'A', 'B', 'A', 'A', 'B', 'B', 'A', 'A', 'A', 'A', 'B', 'B', 'B', 'A', 'B', 'A', 'B', 'C', 'B', 'B', 'B', 'B', 'B', 'C', 'A', 'B', 'B', 'A', 'A', 'A', 'B', 'B', 'A', 'A', 'B', 'B', 'B', 'B', 'A', 'B', 'A', 'C', 'B', 'A', 'C', 'B', 'A', 'A', 'B', 'A', 'C', 'B', 'A', 'C', 'A', 'A', 'A', 'B', 'A', 'B', 'A']\n",
      "Accuracy for /home/zcwang/TRACE/outputs/cl/lora/Qwen/Qwen1.5-1.8B-Chat/predictions/results-4-3-ScienceQA.json:\n",
      "60.00\n",
      "['B', 'B', 'C', 'C', 'D', 'C', 'D', 'B', 'C', 'A', 'C', 'A', 'B', 'B', 'C', 'B', 'A', 'B', 'A', 'A', 'C', 'B', 'C', 'A', 'B', 'B', 'A', 'C', 'C', 'C', 'A', 'A', 'A', 'C', 'D', 'B', 'B', 'B', 'A', 'C', 'A', 'B', 'A', 'A', 'A', 'A', 'A', 'B', 'A', 'B', 'B', 'B', 'C', 'B', 'A', 'B', 'C', 'B', 'B', 'C', 'A', 'B', 'B', 'B', 'B', 'A', 'B', 'A', 'D', 'B', 'B', 'A', 'B', 'B', 'B', 'B', 'B', 'B', 'B', 'A', 'C', 'B', 'A', 'C', 'B', 'C', 'A', 'B', 'B', 'C', 'B', 'A', 'C', 'C', 'A', 'A', 'B', 'A', 'B', 'A'] ['B', 'B', 'C', 'C', 'D', 'B', 'D', 'B', 'A', 'A', 'C', 'A', 'B', 'A', 'B', 'B', 'A', 'B', 'B', 'A', 'C', 'B', 'A', 'A', 'B', 'A', 'A', 'B', 'C', 'C', 'A', 'B', 'A', 'A', 'A', 'A', 'B', 'B', 'A', 'A', 'B', 'A', 'A', 'B', 'B', 'A', 'A', 'A', 'A', 'B', 'B', 'B', 'A', 'B', 'A', 'B', 'C', 'B', 'B', 'B', 'B', 'B', 'C', 'A', 'B', 'B', 'A', 'A', 'A', 'B', 'B', 'A', 'A', 'B', 'B', 'B', 'B', 'A', 'B', 'A', 'C', 'B', 'A', 'C', 'B', 'A', 'A', 'B', 'A', 'C', 'B', 'A', 'C', 'A', 'A', 'A', 'B', 'A', 'B', 'A']\n",
      "Accuracy for /home/zcwang/TRACE/outputs/cl/lora/Qwen/Qwen1.5-1.8B-Chat/predictions/results-5-3-ScienceQA.json:\n",
      "69.00\n",
      "['A', 'B', 'C', 'A', 'C', 'A', 'C', 'B', 'A', 'A', 'B', 'A', 'B', 'B', 'A', 'B', 'A', 'B', 'A', 'A', 'C', 'B', 'C', 'A', 'B', 'B', 'A', 'D', 'C', 'C', 'A', 'A', 'A', 'A', 'A', 'B', 'B', 'B', 'B', 'C', 'A', 'B', 'B', 'A', 'A', 'F', 'A', 'A', 'A', 'A', 'B', 'B', 'B', 'B', 'A', 'B', 'C', 'B', 'B', 'A', 'A', 'B', 'c', 'B', '*', 'B', 'B', 'A', 'C', 'A', 'B', 'A', 'B', 'B', 'B', 'B', 'B', 'B', 'M', 'A', 'C', 'B', 'A', 'C', 'A', 'A', 'A', 'A', 'F', 'C', 'B', 'A', 'C', 'C', 'A', 'A', 'T', 'A', 'B', 'A'] ['B', 'B', 'C', 'C', 'D', 'B', 'D', 'B', 'A', 'A', 'C', 'A', 'B', 'A', 'B', 'B', 'A', 'B', 'B', 'A', 'C', 'B', 'A', 'A', 'B', 'A', 'A', 'B', 'C', 'C', 'A', 'B', 'A', 'A', 'A', 'A', 'B', 'B', 'A', 'A', 'B', 'A', 'A', 'B', 'B', 'A', 'A', 'A', 'A', 'B', 'B', 'B', 'A', 'B', 'A', 'B', 'C', 'B', 'B', 'B', 'B', 'B', 'C', 'A', 'B', 'B', 'A', 'A', 'A', 'B', 'B', 'A', 'A', 'B', 'B', 'B', 'B', 'A', 'B', 'A', 'C', 'B', 'A', 'C', 'B', 'A', 'A', 'B', 'A', 'C', 'B', 'A', 'C', 'A', 'A', 'A', 'B', 'A', 'B', 'A']\n",
      "Accuracy for /home/zcwang/TRACE/outputs/cl/lora/Qwen/Qwen1.5-1.8B-Chat/predictions/results-6-3-ScienceQA.json:\n",
      "60.00\n"
     ]
    }
   ],
   "source": [
    "# for ScienceQA\n",
    "for idx in range(3, 7):\n",
    "    file_path = os.path.join(dir_path, f\"results-{idx}-3-ScienceQA.json\")\n",
    "    with open(file_path, \"r\") as f:\n",
    "        data = json.load(f)\n",
    "    results = data[\"results\"]\n",
    "    labels = data[\"labels\"]\n",
    "    results = [res.strip() for res in results]\n",
    "    labels = [label[0] for label in labels]\n",
    "    results = [res[0] for res in results]\n",
    "    print(results, labels)\n",
    "    acc = sum([1 for res, label in zip(results, labels) if res == label]) / len(labels) * 100\n",
    "    print(f\"Accuracy for {file_path}:\\n{acc:.2f}\")"
   ]
  },
  {
   "cell_type": "code",
   "execution_count": null,
   "metadata": {},
   "outputs": [],
   "source": []
  }
 ],
 "metadata": {
  "kernelspec": {
   "display_name": "trace",
   "language": "python",
   "name": "python3"
  },
  "language_info": {
   "codemirror_mode": {
    "name": "ipython",
    "version": 3
   },
   "file_extension": ".py",
   "mimetype": "text/x-python",
   "name": "python",
   "nbconvert_exporter": "python",
   "pygments_lexer": "ipython3",
   "version": "3.10.13"
  }
 },
 "nbformat": 4,
 "nbformat_minor": 2
}
